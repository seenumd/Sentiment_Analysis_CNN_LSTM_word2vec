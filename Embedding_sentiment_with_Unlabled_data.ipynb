{
 "cells": [
  {
   "cell_type": "code",
   "execution_count": 1,
   "metadata": {},
   "outputs": [
    {
     "name": "stderr",
     "output_type": "stream",
     "text": [
      "C:\\Users\\s.mudalapuram\\AppData\\Local\\Continuum\\Anaconda3\\lib\\site-packages\\gensim\\utils.py:1209: UserWarning: detected Windows; aliasing chunkize to chunkize_serial\n",
      "  warnings.warn(\"detected Windows; aliasing chunkize to chunkize_serial\")\n"
     ]
    }
   ],
   "source": [
    "import pandas as pd\n",
    "import re, string\n",
    "import gensim\n",
    "import logging"
   ]
  },
  {
   "cell_type": "code",
   "execution_count": 3,
   "metadata": {},
   "outputs": [],
   "source": [
    "your_local_path=\"C:/Users/s.mudalapuram/Documents/PythonMe/data/\""
   ]
  },
  {
   "cell_type": "code",
   "execution_count": 4,
   "metadata": {},
   "outputs": [],
   "source": [
    "df = pd.read_csv(your_local_path+'unlabeledTrainData.zip',header = 0, delimiter = \"\\t\",quoting = 3)"
   ]
  },
  {
   "cell_type": "code",
   "execution_count": 6,
   "metadata": {},
   "outputs": [
    {
     "name": "stdout",
     "output_type": "stream",
     "text": [
      "(50000, 2)\n"
     ]
    },
    {
     "data": {
      "text/html": [
       "<div>\n",
       "<style scoped>\n",
       "    .dataframe tbody tr th:only-of-type {\n",
       "        vertical-align: middle;\n",
       "    }\n",
       "\n",
       "    .dataframe tbody tr th {\n",
       "        vertical-align: top;\n",
       "    }\n",
       "\n",
       "    .dataframe thead th {\n",
       "        text-align: right;\n",
       "    }\n",
       "</style>\n",
       "<table border=\"1\" class=\"dataframe\">\n",
       "  <thead>\n",
       "    <tr style=\"text-align: right;\">\n",
       "      <th></th>\n",
       "      <th>id</th>\n",
       "      <th>review</th>\n",
       "    </tr>\n",
       "  </thead>\n",
       "  <tbody>\n",
       "    <tr>\n",
       "      <th>0</th>\n",
       "      <td>\"9999_0\"</td>\n",
       "      <td>\"Watching Time Chasers, it obvious that it was...</td>\n",
       "    </tr>\n",
       "    <tr>\n",
       "      <th>1</th>\n",
       "      <td>\"45057_0\"</td>\n",
       "      <td>\"I saw this film about 20 years ago and rememb...</td>\n",
       "    </tr>\n",
       "    <tr>\n",
       "      <th>2</th>\n",
       "      <td>\"15561_0\"</td>\n",
       "      <td>\"Minor Spoilers&lt;br /&gt;&lt;br /&gt;In New York, Joan B...</td>\n",
       "    </tr>\n",
       "    <tr>\n",
       "      <th>3</th>\n",
       "      <td>\"7161_0\"</td>\n",
       "      <td>\"I went to see this film with a great deal of ...</td>\n",
       "    </tr>\n",
       "    <tr>\n",
       "      <th>4</th>\n",
       "      <td>\"43971_0\"</td>\n",
       "      <td>\"Yes, I agree with everyone on this site this ...</td>\n",
       "    </tr>\n",
       "  </tbody>\n",
       "</table>\n",
       "</div>"
      ],
      "text/plain": [
       "          id                                             review\n",
       "0   \"9999_0\"  \"Watching Time Chasers, it obvious that it was...\n",
       "1  \"45057_0\"  \"I saw this film about 20 years ago and rememb...\n",
       "2  \"15561_0\"  \"Minor Spoilers<br /><br />In New York, Joan B...\n",
       "3   \"7161_0\"  \"I went to see this film with a great deal of ...\n",
       "4  \"43971_0\"  \"Yes, I agree with everyone on this site this ..."
      ]
     },
     "execution_count": 6,
     "metadata": {},
     "output_type": "execute_result"
    }
   ],
   "source": [
    "print(df.shape)\n",
    "df.head()"
   ]
  },
  {
   "cell_type": "code",
   "execution_count": 7,
   "metadata": {},
   "outputs": [],
   "source": [
    "def clean_str(string):\n",
    "  \"\"\"\n",
    "  String cleaning before vectorization\n",
    "  \"\"\"\n",
    "  try:    \n",
    "    string = re.sub(r'^https?:\\/\\/<>.*[\\r\\n]*', '', string, flags=re.MULTILINE)\n",
    "    string = re.sub(r\"[^A-Za-z]\", \" \", string)         \n",
    "    words = string.strip().lower().split()    \n",
    "    #words = [w for w in words if len(w)>=1]\n",
    "    return \" \".join(words)\t\n",
    "  except:\n",
    "    return \"\""
   ]
  },
  {
   "cell_type": "code",
   "execution_count": 8,
   "metadata": {},
   "outputs": [
    {
     "data": {
      "text/html": [
       "<div>\n",
       "<style scoped>\n",
       "    .dataframe tbody tr th:only-of-type {\n",
       "        vertical-align: middle;\n",
       "    }\n",
       "\n",
       "    .dataframe tbody tr th {\n",
       "        vertical-align: top;\n",
       "    }\n",
       "\n",
       "    .dataframe thead th {\n",
       "        text-align: right;\n",
       "    }\n",
       "</style>\n",
       "<table border=\"1\" class=\"dataframe\">\n",
       "  <thead>\n",
       "    <tr style=\"text-align: right;\">\n",
       "      <th></th>\n",
       "      <th>id</th>\n",
       "      <th>review</th>\n",
       "      <th>clean_review</th>\n",
       "    </tr>\n",
       "  </thead>\n",
       "  <tbody>\n",
       "    <tr>\n",
       "      <th>0</th>\n",
       "      <td>\"9999_0\"</td>\n",
       "      <td>\"Watching Time Chasers, it obvious that it was...</td>\n",
       "      <td>watching time chasers it obvious that it was m...</td>\n",
       "    </tr>\n",
       "    <tr>\n",
       "      <th>1</th>\n",
       "      <td>\"45057_0\"</td>\n",
       "      <td>\"I saw this film about 20 years ago and rememb...</td>\n",
       "      <td>i saw this film about years ago and remember i...</td>\n",
       "    </tr>\n",
       "    <tr>\n",
       "      <th>2</th>\n",
       "      <td>\"15561_0\"</td>\n",
       "      <td>\"Minor Spoilers&lt;br /&gt;&lt;br /&gt;In New York, Joan B...</td>\n",
       "      <td>minor spoilers br br in new york joan barnard ...</td>\n",
       "    </tr>\n",
       "    <tr>\n",
       "      <th>3</th>\n",
       "      <td>\"7161_0\"</td>\n",
       "      <td>\"I went to see this film with a great deal of ...</td>\n",
       "      <td>i went to see this film with a great deal of e...</td>\n",
       "    </tr>\n",
       "    <tr>\n",
       "      <th>4</th>\n",
       "      <td>\"43971_0\"</td>\n",
       "      <td>\"Yes, I agree with everyone on this site this ...</td>\n",
       "      <td>yes i agree with everyone on this site this mo...</td>\n",
       "    </tr>\n",
       "  </tbody>\n",
       "</table>\n",
       "</div>"
      ],
      "text/plain": [
       "          id                                             review  \\\n",
       "0   \"9999_0\"  \"Watching Time Chasers, it obvious that it was...   \n",
       "1  \"45057_0\"  \"I saw this film about 20 years ago and rememb...   \n",
       "2  \"15561_0\"  \"Minor Spoilers<br /><br />In New York, Joan B...   \n",
       "3   \"7161_0\"  \"I went to see this film with a great deal of ...   \n",
       "4  \"43971_0\"  \"Yes, I agree with everyone on this site this ...   \n",
       "\n",
       "                                        clean_review  \n",
       "0  watching time chasers it obvious that it was m...  \n",
       "1  i saw this film about years ago and remember i...  \n",
       "2  minor spoilers br br in new york joan barnard ...  \n",
       "3  i went to see this film with a great deal of e...  \n",
       "4  yes i agree with everyone on this site this mo...  "
      ]
     },
     "execution_count": 8,
     "metadata": {},
     "output_type": "execute_result"
    }
   ],
   "source": [
    "df['clean_review'] = df['review'].apply(clean_str)\n",
    "df.head()"
   ]
  },
  {
   "cell_type": "code",
   "execution_count": 9,
   "metadata": {},
   "outputs": [],
   "source": [
    "documents = []\n",
    "for doc in df['clean_review']:\n",
    "    documents.append(doc.split(' '))"
   ]
  },
  {
   "cell_type": "code",
   "execution_count": 11,
   "metadata": {},
   "outputs": [
    {
     "name": "stderr",
     "output_type": "stream",
     "text": [
      "2018-07-13 08:41:10,593 : WARNING : consider setting layer size to a multiple of 4 for greater performance\n",
      "2018-07-13 08:41:10,595 : INFO : collecting all words and their counts\n",
      "2018-07-13 08:41:10,600 : INFO : PROGRESS: at sentence #0, processed 0 words, keeping 0 word types\n",
      "2018-07-13 08:41:11,644 : INFO : PROGRESS: at sentence #10000, processed 2399440 words, keeping 51654 word types\n",
      "2018-07-13 08:41:12,673 : INFO : PROGRESS: at sentence #20000, processed 4835846 words, keeping 69077 word types\n",
      "2018-07-13 08:41:14,541 : INFO : PROGRESS: at sentence #30000, processed 7267977 words, keeping 81515 word types\n",
      "2018-07-13 08:41:15,653 : INFO : PROGRESS: at sentence #40000, processed 9669772 words, keeping 91685 word types\n",
      "2018-07-13 08:41:16,708 : INFO : collected 100479 word types from a corpus of 12084660 raw words and 50000 sentences\n",
      "2018-07-13 08:41:16,711 : INFO : Loading a fresh vocabulary\n",
      "2018-07-13 08:41:17,476 : INFO : effective_min_count=10 retains 28322 unique words (28% of original 100479, drops 72157)\n",
      "2018-07-13 08:41:17,478 : INFO : effective_min_count=10 leaves 11910457 word corpus (98% of original 12084660, drops 174203)\n",
      "2018-07-13 08:41:17,737 : INFO : deleting the raw counts dictionary of 100479 items\n",
      "2018-07-13 08:41:17,747 : INFO : sample=0.001 downsamples 49 most-common words\n",
      "2018-07-13 08:41:17,751 : INFO : downsampling leaves estimated 8817283 word corpus (74.0% of prior 11910457)\n",
      "2018-07-13 08:41:18,020 : INFO : estimated required memory for 28322 words and 50 dimensions: 25489800 bytes\n",
      "2018-07-13 08:41:18,022 : INFO : resetting layer weights\n",
      "2018-07-13 08:41:18,871 : INFO : training model with 4 workers on 28322 vocabulary and 50 features, using sg=0 hs=0 sample=0.001 negative=5 window=5\n",
      "2018-07-13 08:41:19,901 : INFO : EPOCH 1 - PROGRESS: at 6.09% examples, 526593 words/s, in_qsize 7, out_qsize 0\n",
      "2018-07-13 08:41:20,908 : INFO : EPOCH 1 - PROGRESS: at 11.57% examples, 499437 words/s, in_qsize 8, out_qsize 0\n",
      "2018-07-13 08:41:21,929 : INFO : EPOCH 1 - PROGRESS: at 17.26% examples, 494726 words/s, in_qsize 8, out_qsize 0\n",
      "2018-07-13 08:41:22,942 : INFO : EPOCH 1 - PROGRESS: at 22.81% examples, 490700 words/s, in_qsize 7, out_qsize 0\n",
      "2018-07-13 08:41:23,944 : INFO : EPOCH 1 - PROGRESS: at 27.88% examples, 482867 words/s, in_qsize 7, out_qsize 0\n",
      "2018-07-13 08:41:24,953 : INFO : EPOCH 1 - PROGRESS: at 32.64% examples, 472069 words/s, in_qsize 7, out_qsize 0\n",
      "2018-07-13 08:41:25,961 : INFO : EPOCH 1 - PROGRESS: at 37.69% examples, 468562 words/s, in_qsize 8, out_qsize 0\n",
      "2018-07-13 08:41:26,968 : INFO : EPOCH 1 - PROGRESS: at 42.58% examples, 464295 words/s, in_qsize 8, out_qsize 0\n",
      "2018-07-13 08:41:27,979 : INFO : EPOCH 1 - PROGRESS: at 47.68% examples, 463094 words/s, in_qsize 6, out_qsize 1\n",
      "2018-07-13 08:41:28,995 : INFO : EPOCH 1 - PROGRESS: at 53.13% examples, 463456 words/s, in_qsize 7, out_qsize 0\n",
      "2018-07-13 08:41:30,001 : INFO : EPOCH 1 - PROGRESS: at 58.58% examples, 465537 words/s, in_qsize 7, out_qsize 0\n",
      "2018-07-13 08:41:31,003 : INFO : EPOCH 1 - PROGRESS: at 64.21% examples, 468451 words/s, in_qsize 7, out_qsize 0\n",
      "2018-07-13 08:41:32,007 : INFO : EPOCH 1 - PROGRESS: at 69.10% examples, 465352 words/s, in_qsize 8, out_qsize 0\n",
      "2018-07-13 08:41:33,013 : INFO : EPOCH 1 - PROGRESS: at 74.34% examples, 464642 words/s, in_qsize 7, out_qsize 0\n",
      "2018-07-13 08:41:34,014 : INFO : EPOCH 1 - PROGRESS: at 79.90% examples, 465634 words/s, in_qsize 7, out_qsize 0\n",
      "2018-07-13 08:41:35,032 : INFO : EPOCH 1 - PROGRESS: at 84.47% examples, 461590 words/s, in_qsize 7, out_qsize 0\n",
      "2018-07-13 08:41:36,045 : INFO : EPOCH 1 - PROGRESS: at 89.46% examples, 459389 words/s, in_qsize 7, out_qsize 0\n",
      "2018-07-13 08:41:37,056 : INFO : EPOCH 1 - PROGRESS: at 93.88% examples, 455522 words/s, in_qsize 8, out_qsize 1\n",
      "2018-07-13 08:41:38,059 : INFO : EPOCH 1 - PROGRESS: at 98.75% examples, 454020 words/s, in_qsize 7, out_qsize 0\n",
      "2018-07-13 08:41:38,308 : INFO : worker thread finished; awaiting finish of 3 more threads\n",
      "2018-07-13 08:41:38,310 : INFO : worker thread finished; awaiting finish of 2 more threads\n",
      "2018-07-13 08:41:38,319 : INFO : worker thread finished; awaiting finish of 1 more threads\n",
      "2018-07-13 08:41:38,346 : INFO : worker thread finished; awaiting finish of 0 more threads\n",
      "2018-07-13 08:41:38,350 : INFO : EPOCH - 1 : training on 12084660 raw words (8817797 effective words) took 19.5s, 452905 effective words/s\n",
      "2018-07-13 08:41:39,409 : INFO : EPOCH 2 - PROGRESS: at 4.43% examples, 384785 words/s, in_qsize 7, out_qsize 0\n",
      "2018-07-13 08:41:40,415 : INFO : EPOCH 2 - PROGRESS: at 9.27% examples, 399150 words/s, in_qsize 8, out_qsize 0\n",
      "2018-07-13 08:41:41,448 : INFO : EPOCH 2 - PROGRESS: at 14.04% examples, 400587 words/s, in_qsize 8, out_qsize 0\n",
      "2018-07-13 08:41:42,472 : INFO : EPOCH 2 - PROGRESS: at 18.52% examples, 396446 words/s, in_qsize 7, out_qsize 0\n",
      "2018-07-13 08:41:43,489 : INFO : EPOCH 2 - PROGRESS: at 23.06% examples, 394529 words/s, in_qsize 7, out_qsize 0\n",
      "2018-07-13 08:41:44,500 : INFO : EPOCH 2 - PROGRESS: at 28.38% examples, 406632 words/s, in_qsize 7, out_qsize 0\n",
      "2018-07-13 08:41:45,510 : INFO : EPOCH 2 - PROGRESS: at 33.96% examples, 418334 words/s, in_qsize 7, out_qsize 0\n",
      "2018-07-13 08:41:46,517 : INFO : EPOCH 2 - PROGRESS: at 39.67% examples, 429884 words/s, in_qsize 7, out_qsize 0\n",
      "2018-07-13 08:41:47,524 : INFO : EPOCH 2 - PROGRESS: at 44.11% examples, 425650 words/s, in_qsize 8, out_qsize 0\n",
      "2018-07-13 08:41:48,565 : INFO : EPOCH 2 - PROGRESS: at 48.94% examples, 424325 words/s, in_qsize 8, out_qsize 0\n",
      "2018-07-13 08:41:49,572 : INFO : EPOCH 2 - PROGRESS: at 52.39% examples, 413130 words/s, in_qsize 7, out_qsize 0\n",
      "2018-07-13 08:41:50,583 : INFO : EPOCH 2 - PROGRESS: at 56.18% examples, 406633 words/s, in_qsize 6, out_qsize 1\n",
      "2018-07-13 08:41:51,620 : INFO : EPOCH 2 - PROGRESS: at 60.10% examples, 401374 words/s, in_qsize 7, out_qsize 0\n",
      "2018-07-13 08:41:52,629 : INFO : EPOCH 2 - PROGRESS: at 64.04% examples, 397585 words/s, in_qsize 7, out_qsize 0\n",
      "2018-07-13 08:41:53,641 : INFO : EPOCH 2 - PROGRESS: at 68.40% examples, 396099 words/s, in_qsize 7, out_qsize 0\n",
      "2018-07-13 08:41:54,686 : INFO : EPOCH 2 - PROGRESS: at 72.67% examples, 393595 words/s, in_qsize 7, out_qsize 0\n",
      "2018-07-13 08:41:55,700 : INFO : EPOCH 2 - PROGRESS: at 76.81% examples, 391666 words/s, in_qsize 7, out_qsize 0\n",
      "2018-07-13 08:41:56,714 : INFO : EPOCH 2 - PROGRESS: at 81.18% examples, 390656 words/s, in_qsize 8, out_qsize 0\n",
      "2018-07-13 08:41:57,739 : INFO : EPOCH 2 - PROGRESS: at 85.44% examples, 389286 words/s, in_qsize 8, out_qsize 0\n",
      "2018-07-13 08:41:58,744 : INFO : EPOCH 2 - PROGRESS: at 89.71% examples, 388334 words/s, in_qsize 7, out_qsize 0\n",
      "2018-07-13 08:41:59,769 : INFO : EPOCH 2 - PROGRESS: at 93.52% examples, 385483 words/s, in_qsize 7, out_qsize 1\n",
      "2018-07-13 08:42:00,785 : INFO : EPOCH 2 - PROGRESS: at 97.14% examples, 382602 words/s, in_qsize 6, out_qsize 1\n",
      "2018-07-13 08:42:01,398 : INFO : worker thread finished; awaiting finish of 3 more threads\n",
      "2018-07-13 08:42:01,411 : INFO : worker thread finished; awaiting finish of 2 more threads\n",
      "2018-07-13 08:42:01,429 : INFO : worker thread finished; awaiting finish of 1 more threads\n",
      "2018-07-13 08:42:01,447 : INFO : worker thread finished; awaiting finish of 0 more threads\n",
      "2018-07-13 08:42:01,452 : INFO : EPOCH - 2 : training on 12084660 raw words (8816677 effective words) took 23.1s, 382228 effective words/s\n",
      "2018-07-13 08:42:02,588 : INFO : EPOCH 3 - PROGRESS: at 3.59% examples, 313978 words/s, in_qsize 7, out_qsize 0\n",
      "2018-07-13 08:42:03,590 : INFO : EPOCH 3 - PROGRESS: at 7.52% examples, 325298 words/s, in_qsize 7, out_qsize 0\n",
      "2018-07-13 08:42:04,593 : INFO : EPOCH 3 - PROGRESS: at 12.16% examples, 350548 words/s, in_qsize 8, out_qsize 0\n",
      "2018-07-13 08:42:05,619 : INFO : EPOCH 3 - PROGRESS: at 15.93% examples, 343376 words/s, in_qsize 8, out_qsize 0\n",
      "2018-07-13 08:42:06,624 : INFO : EPOCH 3 - PROGRESS: at 19.43% examples, 335798 words/s, in_qsize 7, out_qsize 0\n",
      "2018-07-13 08:42:07,637 : INFO : EPOCH 3 - PROGRESS: at 23.13% examples, 332825 words/s, in_qsize 6, out_qsize 2\n",
      "2018-07-13 08:42:08,654 : INFO : EPOCH 3 - PROGRESS: at 26.92% examples, 332627 words/s, in_qsize 7, out_qsize 0\n",
      "2018-07-13 08:42:09,679 : INFO : EPOCH 3 - PROGRESS: at 30.06% examples, 325026 words/s, in_qsize 7, out_qsize 0\n"
     ]
    },
    {
     "name": "stderr",
     "output_type": "stream",
     "text": [
      "2018-07-13 08:42:10,697 : INFO : EPOCH 3 - PROGRESS: at 33.47% examples, 321748 words/s, in_qsize 7, out_qsize 1\n",
      "2018-07-13 08:42:11,717 : INFO : EPOCH 3 - PROGRESS: at 37.34% examples, 323922 words/s, in_qsize 7, out_qsize 1\n",
      "2018-07-13 08:42:12,745 : INFO : EPOCH 3 - PROGRESS: at 41.86% examples, 330058 words/s, in_qsize 7, out_qsize 0\n",
      "2018-07-13 08:42:13,769 : INFO : EPOCH 3 - PROGRESS: at 46.16% examples, 334040 words/s, in_qsize 8, out_qsize 0\n",
      "2018-07-13 08:42:14,794 : INFO : EPOCH 3 - PROGRESS: at 50.34% examples, 335889 words/s, in_qsize 8, out_qsize 0\n",
      "2018-07-13 08:42:15,806 : INFO : EPOCH 3 - PROGRESS: at 54.53% examples, 338237 words/s, in_qsize 7, out_qsize 0\n",
      "2018-07-13 08:42:16,825 : INFO : EPOCH 3 - PROGRESS: at 58.81% examples, 340619 words/s, in_qsize 6, out_qsize 1\n",
      "2018-07-13 08:42:17,851 : INFO : EPOCH 3 - PROGRESS: at 63.13% examples, 342939 words/s, in_qsize 7, out_qsize 0\n",
      "2018-07-13 08:42:18,862 : INFO : EPOCH 3 - PROGRESS: at 67.45% examples, 344816 words/s, in_qsize 7, out_qsize 0\n",
      "2018-07-13 08:42:19,885 : INFO : EPOCH 3 - PROGRESS: at 71.74% examples, 345973 words/s, in_qsize 8, out_qsize 0\n",
      "2018-07-13 08:42:20,897 : INFO : EPOCH 3 - PROGRESS: at 76.40% examples, 348967 words/s, in_qsize 7, out_qsize 0\n",
      "2018-07-13 08:42:21,901 : INFO : EPOCH 3 - PROGRESS: at 81.27% examples, 352469 words/s, in_qsize 8, out_qsize 0\n",
      "2018-07-13 08:42:22,917 : INFO : EPOCH 3 - PROGRESS: at 86.03% examples, 355213 words/s, in_qsize 7, out_qsize 0\n",
      "2018-07-13 08:42:23,923 : INFO : EPOCH 3 - PROGRESS: at 90.60% examples, 357190 words/s, in_qsize 8, out_qsize 0\n",
      "2018-07-13 08:42:24,938 : INFO : EPOCH 3 - PROGRESS: at 96.24% examples, 363375 words/s, in_qsize 8, out_qsize 0\n",
      "2018-07-13 08:42:25,596 : INFO : worker thread finished; awaiting finish of 3 more threads\n",
      "2018-07-13 08:42:25,604 : INFO : worker thread finished; awaiting finish of 2 more threads\n",
      "2018-07-13 08:42:25,613 : INFO : worker thread finished; awaiting finish of 1 more threads\n",
      "2018-07-13 08:42:25,631 : INFO : worker thread finished; awaiting finish of 0 more threads\n",
      "2018-07-13 08:42:25,636 : INFO : EPOCH - 3 : training on 12084660 raw words (8818760 effective words) took 24.1s, 366299 effective words/s\n",
      "2018-07-13 08:42:26,673 : INFO : EPOCH 4 - PROGRESS: at 3.93% examples, 349733 words/s, in_qsize 7, out_qsize 0\n",
      "2018-07-13 08:42:27,704 : INFO : EPOCH 4 - PROGRESS: at 8.10% examples, 349072 words/s, in_qsize 7, out_qsize 0\n",
      "2018-07-13 08:42:28,720 : INFO : EPOCH 4 - PROGRESS: at 12.41% examples, 355386 words/s, in_qsize 8, out_qsize 0\n",
      "2018-07-13 08:42:29,737 : INFO : EPOCH 4 - PROGRESS: at 16.32% examples, 351244 words/s, in_qsize 7, out_qsize 0\n",
      "2018-07-13 08:42:30,763 : INFO : EPOCH 4 - PROGRESS: at 19.43% examples, 333618 words/s, in_qsize 8, out_qsize 1\n",
      "2018-07-13 08:42:31,777 : INFO : EPOCH 4 - PROGRESS: at 21.99% examples, 314525 words/s, in_qsize 7, out_qsize 0\n",
      "2018-07-13 08:42:32,800 : INFO : EPOCH 4 - PROGRESS: at 26.31% examples, 323719 words/s, in_qsize 8, out_qsize 0\n",
      "2018-07-13 08:42:33,824 : INFO : EPOCH 4 - PROGRESS: at 30.16% examples, 324358 words/s, in_qsize 8, out_qsize 0\n",
      "2018-07-13 08:42:34,861 : INFO : EPOCH 4 - PROGRESS: at 33.78% examples, 322825 words/s, in_qsize 7, out_qsize 0\n",
      "2018-07-13 08:42:35,881 : INFO : EPOCH 4 - PROGRESS: at 36.99% examples, 318481 words/s, in_qsize 8, out_qsize 0\n",
      "2018-07-13 08:42:36,904 : INFO : EPOCH 4 - PROGRESS: at 40.87% examples, 320731 words/s, in_qsize 8, out_qsize 1\n",
      "2018-07-13 08:42:37,908 : INFO : EPOCH 4 - PROGRESS: at 45.45% examples, 327698 words/s, in_qsize 8, out_qsize 1\n",
      "2018-07-13 08:42:38,918 : INFO : EPOCH 4 - PROGRESS: at 50.51% examples, 336330 words/s, in_qsize 8, out_qsize 1\n",
      "2018-07-13 08:42:39,929 : INFO : EPOCH 4 - PROGRESS: at 54.96% examples, 340192 words/s, in_qsize 7, out_qsize 0\n",
      "2018-07-13 08:42:40,950 : INFO : EPOCH 4 - PROGRESS: at 59.79% examples, 345703 words/s, in_qsize 8, out_qsize 0\n",
      "2018-07-13 08:42:41,953 : INFO : EPOCH 4 - PROGRESS: at 64.44% examples, 349924 words/s, in_qsize 7, out_qsize 0\n",
      "2018-07-13 08:42:42,971 : INFO : EPOCH 4 - PROGRESS: at 69.10% examples, 352958 words/s, in_qsize 8, out_qsize 0\n",
      "2018-07-13 08:42:43,996 : INFO : EPOCH 4 - PROGRESS: at 73.73% examples, 355113 words/s, in_qsize 6, out_qsize 1\n",
      "2018-07-13 08:42:45,029 : INFO : EPOCH 4 - PROGRESS: at 77.99% examples, 355777 words/s, in_qsize 7, out_qsize 0\n",
      "2018-07-13 08:42:46,032 : INFO : EPOCH 4 - PROGRESS: at 82.38% examples, 356883 words/s, in_qsize 7, out_qsize 0\n",
      "2018-07-13 08:42:47,042 : INFO : EPOCH 4 - PROGRESS: at 86.69% examples, 357519 words/s, in_qsize 8, out_qsize 0\n",
      "2018-07-13 08:42:48,051 : INFO : EPOCH 4 - PROGRESS: at 90.99% examples, 358436 words/s, in_qsize 7, out_qsize 0\n",
      "2018-07-13 08:42:49,058 : INFO : EPOCH 4 - PROGRESS: at 94.49% examples, 356368 words/s, in_qsize 8, out_qsize 0\n",
      "2018-07-13 08:42:50,068 : INFO : EPOCH 4 - PROGRESS: at 98.08% examples, 354503 words/s, in_qsize 8, out_qsize 0\n",
      "2018-07-13 08:42:50,493 : INFO : worker thread finished; awaiting finish of 3 more threads\n",
      "2018-07-13 08:42:50,511 : INFO : worker thread finished; awaiting finish of 2 more threads\n",
      "2018-07-13 08:42:50,535 : INFO : worker thread finished; awaiting finish of 1 more threads\n",
      "2018-07-13 08:42:50,554 : INFO : worker thread finished; awaiting finish of 0 more threads\n",
      "2018-07-13 08:42:50,559 : INFO : EPOCH - 4 : training on 12084660 raw words (8816815 effective words) took 24.9s, 354235 effective words/s\n",
      "2018-07-13 08:42:51,604 : INFO : EPOCH 5 - PROGRESS: at 3.22% examples, 286020 words/s, in_qsize 7, out_qsize 0\n",
      "2018-07-13 08:42:52,607 : INFO : EPOCH 5 - PROGRESS: at 7.19% examples, 314925 words/s, in_qsize 8, out_qsize 0\n",
      "2018-07-13 08:42:53,618 : INFO : EPOCH 5 - PROGRESS: at 10.64% examples, 309463 words/s, in_qsize 7, out_qsize 0\n",
      "2018-07-13 08:42:54,628 : INFO : EPOCH 5 - PROGRESS: at 14.87% examples, 322715 words/s, in_qsize 7, out_qsize 0\n",
      "2018-07-13 08:42:55,657 : INFO : EPOCH 5 - PROGRESS: at 19.02% examples, 329138 words/s, in_qsize 6, out_qsize 1\n",
      "2018-07-13 08:42:56,680 : INFO : EPOCH 5 - PROGRESS: at 21.73% examples, 312687 words/s, in_qsize 8, out_qsize 0\n",
      "2018-07-13 08:42:57,695 : INFO : EPOCH 5 - PROGRESS: at 26.58% examples, 328514 words/s, in_qsize 6, out_qsize 1\n",
      "2018-07-13 08:42:58,706 : INFO : EPOCH 5 - PROGRESS: at 31.22% examples, 337946 words/s, in_qsize 8, out_qsize 1\n",
      "2018-07-13 08:42:59,715 : INFO : EPOCH 5 - PROGRESS: at 35.72% examples, 344473 words/s, in_qsize 6, out_qsize 1\n",
      "2018-07-13 08:43:00,744 : INFO : EPOCH 5 - PROGRESS: at 39.26% examples, 341259 words/s, in_qsize 7, out_qsize 0\n",
      "2018-07-13 08:43:01,764 : INFO : EPOCH 5 - PROGRESS: at 43.47% examples, 343437 words/s, in_qsize 8, out_qsize 0\n",
      "2018-07-13 08:43:02,790 : INFO : EPOCH 5 - PROGRESS: at 47.60% examples, 345091 words/s, in_qsize 7, out_qsize 0\n",
      "2018-07-13 08:43:03,804 : INFO : EPOCH 5 - PROGRESS: at 50.91% examples, 340386 words/s, in_qsize 8, out_qsize 0\n",
      "2018-07-13 08:43:04,815 : INFO : EPOCH 5 - PROGRESS: at 54.63% examples, 339416 words/s, in_qsize 8, out_qsize 0\n",
      "2018-07-13 08:43:05,821 : INFO : EPOCH 5 - PROGRESS: at 58.27% examples, 338251 words/s, in_qsize 8, out_qsize 0\n",
      "2018-07-13 08:43:06,852 : INFO : EPOCH 5 - PROGRESS: at 61.96% examples, 337101 words/s, in_qsize 8, out_qsize 1\n",
      "2018-07-13 08:43:07,874 : INFO : EPOCH 5 - PROGRESS: at 66.23% examples, 339152 words/s, in_qsize 8, out_qsize 0\n",
      "2018-07-13 08:43:08,887 : INFO : EPOCH 5 - PROGRESS: at 70.71% examples, 341531 words/s, in_qsize 8, out_qsize 0\n",
      "2018-07-13 08:43:09,895 : INFO : EPOCH 5 - PROGRESS: at 75.07% examples, 343689 words/s, in_qsize 8, out_qsize 0\n",
      "2018-07-13 08:43:10,901 : INFO : EPOCH 5 - PROGRESS: at 79.14% examples, 343962 words/s, in_qsize 7, out_qsize 0\n",
      "2018-07-13 08:43:11,913 : INFO : EPOCH 5 - PROGRESS: at 83.33% examples, 345109 words/s, in_qsize 6, out_qsize 1\n",
      "2018-07-13 08:43:12,914 : INFO : EPOCH 5 - PROGRESS: at 87.84% examples, 347024 words/s, in_qsize 7, out_qsize 0\n",
      "2018-07-13 08:43:13,922 : INFO : EPOCH 5 - PROGRESS: at 92.59% examples, 350159 words/s, in_qsize 7, out_qsize 0\n",
      "2018-07-13 08:43:14,933 : INFO : EPOCH 5 - PROGRESS: at 97.47% examples, 353491 words/s, in_qsize 8, out_qsize 0\n",
      "2018-07-13 08:43:15,360 : INFO : worker thread finished; awaiting finish of 3 more threads\n"
     ]
    },
    {
     "name": "stderr",
     "output_type": "stream",
     "text": [
      "2018-07-13 08:43:15,367 : INFO : worker thread finished; awaiting finish of 2 more threads\n",
      "2018-07-13 08:43:15,379 : INFO : worker thread finished; awaiting finish of 1 more threads\n",
      "2018-07-13 08:43:15,389 : INFO : worker thread finished; awaiting finish of 0 more threads\n",
      "2018-07-13 08:43:15,393 : INFO : EPOCH - 5 : training on 12084660 raw words (8818763 effective words) took 24.8s, 355707 effective words/s\n",
      "2018-07-13 08:43:16,412 : INFO : EPOCH 6 - PROGRESS: at 5.82% examples, 510393 words/s, in_qsize 8, out_qsize 0\n",
      "2018-07-13 08:43:17,415 : INFO : EPOCH 6 - PROGRESS: at 11.90% examples, 517623 words/s, in_qsize 8, out_qsize 0\n",
      "2018-07-13 08:43:18,429 : INFO : EPOCH 6 - PROGRESS: at 15.61% examples, 450791 words/s, in_qsize 7, out_qsize 0\n",
      "2018-07-13 08:43:19,435 : INFO : EPOCH 6 - PROGRESS: at 19.99% examples, 433724 words/s, in_qsize 6, out_qsize 1\n",
      "2018-07-13 08:43:20,446 : INFO : EPOCH 6 - PROGRESS: at 24.21% examples, 420782 words/s, in_qsize 7, out_qsize 0\n",
      "2018-07-13 08:43:21,450 : INFO : EPOCH 6 - PROGRESS: at 29.08% examples, 422070 words/s, in_qsize 7, out_qsize 0\n",
      "2018-07-13 08:43:22,451 : INFO : EPOCH 6 - PROGRESS: at 34.04% examples, 424102 words/s, in_qsize 8, out_qsize 0\n",
      "2018-07-13 08:43:23,464 : INFO : EPOCH 6 - PROGRESS: at 38.63% examples, 422330 words/s, in_qsize 8, out_qsize 0\n",
      "2018-07-13 08:43:24,489 : INFO : EPOCH 6 - PROGRESS: at 43.47% examples, 421906 words/s, in_qsize 8, out_qsize 1\n",
      "2018-07-13 08:43:25,490 : INFO : EPOCH 6 - PROGRESS: at 48.21% examples, 421912 words/s, in_qsize 7, out_qsize 0\n",
      "2018-07-13 08:43:26,505 : INFO : EPOCH 6 - PROGRESS: at 53.06% examples, 421465 words/s, in_qsize 8, out_qsize 0\n",
      "2018-07-13 08:43:27,533 : INFO : EPOCH 6 - PROGRESS: at 57.82% examples, 420759 words/s, in_qsize 7, out_qsize 0\n",
      "2018-07-13 08:43:28,553 : INFO : EPOCH 6 - PROGRESS: at 62.58% examples, 420816 words/s, in_qsize 8, out_qsize 0\n",
      "2018-07-13 08:43:29,566 : INFO : EPOCH 6 - PROGRESS: at 68.23% examples, 425650 words/s, in_qsize 8, out_qsize 0\n",
      "2018-07-13 08:43:30,581 : INFO : EPOCH 6 - PROGRESS: at 73.88% examples, 429773 words/s, in_qsize 8, out_qsize 0\n",
      "2018-07-13 08:43:31,587 : INFO : EPOCH 6 - PROGRESS: at 79.66% examples, 434079 words/s, in_qsize 7, out_qsize 0\n",
      "2018-07-13 08:43:32,610 : INFO : EPOCH 6 - PROGRESS: at 84.71% examples, 434511 words/s, in_qsize 8, out_qsize 0\n",
      "2018-07-13 08:43:33,627 : INFO : EPOCH 6 - PROGRESS: at 89.02% examples, 430327 words/s, in_qsize 6, out_qsize 1\n",
      "2018-07-13 08:43:34,638 : INFO : EPOCH 6 - PROGRESS: at 93.09% examples, 426729 words/s, in_qsize 7, out_qsize 0\n",
      "2018-07-13 08:43:35,646 : INFO : EPOCH 6 - PROGRESS: at 97.82% examples, 426251 words/s, in_qsize 8, out_qsize 0\n",
      "2018-07-13 08:43:36,039 : INFO : worker thread finished; awaiting finish of 3 more threads\n",
      "2018-07-13 08:43:36,044 : INFO : worker thread finished; awaiting finish of 2 more threads\n",
      "2018-07-13 08:43:36,056 : INFO : worker thread finished; awaiting finish of 1 more threads\n",
      "2018-07-13 08:43:36,076 : INFO : worker thread finished; awaiting finish of 0 more threads\n",
      "2018-07-13 08:43:36,082 : INFO : EPOCH - 6 : training on 12084660 raw words (8817980 effective words) took 20.7s, 426407 effective words/s\n",
      "2018-07-13 08:43:37,119 : INFO : EPOCH 7 - PROGRESS: at 3.51% examples, 312149 words/s, in_qsize 7, out_qsize 0\n",
      "2018-07-13 08:43:38,132 : INFO : EPOCH 7 - PROGRESS: at 8.85% examples, 383265 words/s, in_qsize 8, out_qsize 0\n",
      "2018-07-13 08:43:39,145 : INFO : EPOCH 7 - PROGRESS: at 14.13% examples, 406933 words/s, in_qsize 7, out_qsize 0\n",
      "2018-07-13 08:43:40,158 : INFO : EPOCH 7 - PROGRESS: at 19.18% examples, 414503 words/s, in_qsize 7, out_qsize 0\n",
      "2018-07-13 08:43:41,161 : INFO : EPOCH 7 - PROGRESS: at 23.85% examples, 413091 words/s, in_qsize 6, out_qsize 1\n",
      "2018-07-13 08:43:42,180 : INFO : EPOCH 7 - PROGRESS: at 27.17% examples, 392212 words/s, in_qsize 7, out_qsize 0\n",
      "2018-07-13 08:43:43,196 : INFO : EPOCH 7 - PROGRESS: at 31.37% examples, 388547 words/s, in_qsize 7, out_qsize 0\n",
      "2018-07-13 08:43:44,214 : INFO : EPOCH 7 - PROGRESS: at 35.72% examples, 387389 words/s, in_qsize 7, out_qsize 0\n",
      "2018-07-13 08:43:45,230 : INFO : EPOCH 7 - PROGRESS: at 40.22% examples, 388829 words/s, in_qsize 7, out_qsize 0\n",
      "2018-07-13 08:43:46,231 : INFO : EPOCH 7 - PROGRESS: at 45.68% examples, 398513 words/s, in_qsize 8, out_qsize 0\n",
      "2018-07-13 08:43:47,233 : INFO : EPOCH 7 - PROGRESS: at 51.15% examples, 405875 words/s, in_qsize 8, out_qsize 0\n",
      "2018-07-13 08:43:48,243 : INFO : EPOCH 7 - PROGRESS: at 56.92% examples, 414171 words/s, in_qsize 7, out_qsize 1\n",
      "2018-07-13 08:43:49,248 : INFO : EPOCH 7 - PROGRESS: at 62.66% examples, 421824 words/s, in_qsize 8, out_qsize 0\n",
      "2018-07-13 08:43:50,272 : INFO : EPOCH 7 - PROGRESS: at 68.14% examples, 425181 words/s, in_qsize 6, out_qsize 1\n",
      "2018-07-13 08:43:51,277 : INFO : EPOCH 7 - PROGRESS: at 73.08% examples, 425393 words/s, in_qsize 8, out_qsize 0\n",
      "2018-07-13 08:43:52,284 : INFO : EPOCH 7 - PROGRESS: at 77.76% examples, 424609 words/s, in_qsize 8, out_qsize 0\n",
      "2018-07-13 08:43:53,284 : INFO : EPOCH 7 - PROGRESS: at 82.56% examples, 424035 words/s, in_qsize 8, out_qsize 0\n",
      "2018-07-13 08:43:54,292 : INFO : EPOCH 7 - PROGRESS: at 87.61% examples, 424618 words/s, in_qsize 7, out_qsize 0\n",
      "2018-07-13 08:43:55,298 : INFO : EPOCH 7 - PROGRESS: at 92.36% examples, 424380 words/s, in_qsize 7, out_qsize 0\n",
      "2018-07-13 08:43:56,303 : INFO : EPOCH 7 - PROGRESS: at 97.16% examples, 424459 words/s, in_qsize 7, out_qsize 0\n",
      "2018-07-13 08:43:56,827 : INFO : worker thread finished; awaiting finish of 3 more threads\n",
      "2018-07-13 08:43:56,832 : INFO : worker thread finished; awaiting finish of 2 more threads\n",
      "2018-07-13 08:43:56,842 : INFO : worker thread finished; awaiting finish of 1 more threads\n",
      "2018-07-13 08:43:56,857 : INFO : worker thread finished; awaiting finish of 0 more threads\n",
      "2018-07-13 08:43:56,863 : INFO : EPOCH - 7 : training on 12084660 raw words (8817614 effective words) took 20.8s, 424870 effective words/s\n",
      "2018-07-13 08:43:57,945 : INFO : EPOCH 8 - PROGRESS: at 4.78% examples, 415096 words/s, in_qsize 7, out_qsize 0\n",
      "2018-07-13 08:43:58,955 : INFO : EPOCH 8 - PROGRESS: at 9.83% examples, 424521 words/s, in_qsize 8, out_qsize 0\n",
      "2018-07-13 08:43:59,976 : INFO : EPOCH 8 - PROGRESS: at 14.79% examples, 423803 words/s, in_qsize 7, out_qsize 0\n",
      "2018-07-13 08:44:00,978 : INFO : EPOCH 8 - PROGRESS: at 20.06% examples, 433583 words/s, in_qsize 7, out_qsize 0\n",
      "2018-07-13 08:44:01,985 : INFO : EPOCH 8 - PROGRESS: at 25.84% examples, 447957 words/s, in_qsize 8, out_qsize 1\n",
      "2018-07-13 08:44:02,992 : INFO : EPOCH 8 - PROGRESS: at 31.70% examples, 458580 words/s, in_qsize 8, out_qsize 0\n",
      "2018-07-13 08:44:04,009 : INFO : EPOCH 8 - PROGRESS: at 37.28% examples, 463448 words/s, in_qsize 8, out_qsize 0\n",
      "2018-07-13 08:44:05,041 : INFO : EPOCH 8 - PROGRESS: at 42.66% examples, 463672 words/s, in_qsize 8, out_qsize 0\n",
      "2018-07-13 08:44:06,042 : INFO : EPOCH 8 - PROGRESS: at 48.27% examples, 467723 words/s, in_qsize 8, out_qsize 0\n",
      "2018-07-13 08:44:07,050 : INFO : EPOCH 8 - PROGRESS: at 53.84% examples, 469441 words/s, in_qsize 8, out_qsize 0\n",
      "2018-07-13 08:44:08,051 : INFO : EPOCH 8 - PROGRESS: at 58.65% examples, 465991 words/s, in_qsize 7, out_qsize 0\n",
      "2018-07-13 08:44:09,054 : INFO : EPOCH 8 - PROGRESS: at 63.39% examples, 462282 words/s, in_qsize 8, out_qsize 0\n",
      "2018-07-13 08:44:10,075 : INFO : EPOCH 8 - PROGRESS: at 68.31% examples, 459119 words/s, in_qsize 8, out_qsize 0\n",
      "2018-07-13 08:44:11,082 : INFO : EPOCH 8 - PROGRESS: at 73.25% examples, 456820 words/s, in_qsize 8, out_qsize 0\n",
      "2018-07-13 08:44:12,093 : INFO : EPOCH 8 - PROGRESS: at 78.18% examples, 455171 words/s, in_qsize 7, out_qsize 0\n",
      "2018-07-13 08:44:13,095 : INFO : EPOCH 8 - PROGRESS: at 82.62% examples, 450865 words/s, in_qsize 8, out_qsize 0\n",
      "2018-07-13 08:44:14,095 : INFO : EPOCH 8 - PROGRESS: at 87.19% examples, 447593 words/s, in_qsize 8, out_qsize 0\n",
      "2018-07-13 08:44:15,120 : INFO : EPOCH 8 - PROGRESS: at 91.93% examples, 445608 words/s, in_qsize 6, out_qsize 1\n",
      "2018-07-13 08:44:16,126 : INFO : EPOCH 8 - PROGRESS: at 96.10% examples, 441581 words/s, in_qsize 7, out_qsize 0\n",
      "2018-07-13 08:44:17,087 : INFO : worker thread finished; awaiting finish of 3 more threads\n",
      "2018-07-13 08:44:17,095 : INFO : worker thread finished; awaiting finish of 2 more threads\n"
     ]
    },
    {
     "name": "stderr",
     "output_type": "stream",
     "text": [
      "2018-07-13 08:44:17,099 : INFO : worker thread finished; awaiting finish of 1 more threads\n",
      "2018-07-13 08:44:17,113 : INFO : worker thread finished; awaiting finish of 0 more threads\n",
      "2018-07-13 08:44:17,116 : INFO : EPOCH - 8 : training on 12084660 raw words (8817103 effective words) took 20.2s, 436720 effective words/s\n",
      "2018-07-13 08:44:18,153 : INFO : EPOCH 9 - PROGRESS: at 4.87% examples, 426194 words/s, in_qsize 8, out_qsize 0\n",
      "2018-07-13 08:44:19,163 : INFO : EPOCH 9 - PROGRESS: at 10.56% examples, 458459 words/s, in_qsize 7, out_qsize 0\n",
      "2018-07-13 08:44:20,165 : INFO : EPOCH 9 - PROGRESS: at 15.77% examples, 456353 words/s, in_qsize 7, out_qsize 0\n",
      "2018-07-13 08:44:21,168 : INFO : EPOCH 9 - PROGRESS: at 20.62% examples, 448948 words/s, in_qsize 8, out_qsize 0\n",
      "2018-07-13 08:44:22,168 : INFO : EPOCH 9 - PROGRESS: at 25.41% examples, 443582 words/s, in_qsize 7, out_qsize 0\n",
      "2018-07-13 08:44:23,195 : INFO : EPOCH 9 - PROGRESS: at 29.98% examples, 434591 words/s, in_qsize 8, out_qsize 0\n",
      "2018-07-13 08:44:24,214 : INFO : EPOCH 9 - PROGRESS: at 33.38% examples, 414552 words/s, in_qsize 8, out_qsize 0\n",
      "2018-07-13 08:44:25,226 : INFO : EPOCH 9 - PROGRESS: at 37.86% examples, 412107 words/s, in_qsize 6, out_qsize 1\n",
      "2018-07-13 08:44:26,235 : INFO : EPOCH 9 - PROGRESS: at 42.66% examples, 413675 words/s, in_qsize 8, out_qsize 0\n",
      "2018-07-13 08:44:27,259 : INFO : EPOCH 9 - PROGRESS: at 47.44% examples, 414158 words/s, in_qsize 7, out_qsize 0\n",
      "2018-07-13 08:44:28,288 : INFO : EPOCH 9 - PROGRESS: at 52.47% examples, 415264 words/s, in_qsize 8, out_qsize 0\n",
      "2018-07-13 08:44:29,300 : INFO : EPOCH 9 - PROGRESS: at 57.14% examples, 415006 words/s, in_qsize 7, out_qsize 0\n",
      "2018-07-13 08:44:30,307 : INFO : EPOCH 9 - PROGRESS: at 61.74% examples, 414353 words/s, in_qsize 8, out_qsize 0\n",
      "2018-07-13 08:44:31,314 : INFO : EPOCH 9 - PROGRESS: at 66.23% examples, 413193 words/s, in_qsize 8, out_qsize 0\n",
      "2018-07-13 08:44:32,329 : INFO : EPOCH 9 - PROGRESS: at 71.36% examples, 414854 words/s, in_qsize 7, out_qsize 0\n",
      "2018-07-13 08:44:33,338 : INFO : EPOCH 9 - PROGRESS: at 75.60% examples, 411967 words/s, in_qsize 7, out_qsize 0\n",
      "2018-07-13 08:44:34,339 : INFO : EPOCH 9 - PROGRESS: at 81.10% examples, 415859 words/s, in_qsize 7, out_qsize 0\n",
      "2018-07-13 08:44:35,342 : INFO : EPOCH 9 - PROGRESS: at 86.69% examples, 419782 words/s, in_qsize 7, out_qsize 0\n",
      "2018-07-13 08:44:36,343 : INFO : EPOCH 9 - PROGRESS: at 92.19% examples, 423267 words/s, in_qsize 7, out_qsize 0\n",
      "2018-07-13 08:44:37,345 : INFO : EPOCH 9 - PROGRESS: at 97.66% examples, 426332 words/s, in_qsize 7, out_qsize 0\n",
      "2018-07-13 08:44:37,998 : INFO : worker thread finished; awaiting finish of 3 more threads\n",
      "2018-07-13 08:44:38,001 : INFO : worker thread finished; awaiting finish of 2 more threads\n",
      "2018-07-13 08:44:38,011 : INFO : worker thread finished; awaiting finish of 1 more threads\n",
      "2018-07-13 08:44:38,020 : INFO : worker thread finished; awaiting finish of 0 more threads\n",
      "2018-07-13 08:44:38,024 : INFO : EPOCH - 9 : training on 12084660 raw words (8814578 effective words) took 20.9s, 422162 effective words/s\n",
      "2018-07-13 08:44:39,070 : INFO : EPOCH 10 - PROGRESS: at 4.52% examples, 399311 words/s, in_qsize 8, out_qsize 0\n",
      "2018-07-13 08:44:40,076 : INFO : EPOCH 10 - PROGRESS: at 9.42% examples, 410436 words/s, in_qsize 8, out_qsize 0\n",
      "2018-07-13 08:44:41,087 : INFO : EPOCH 10 - PROGRESS: at 14.47% examples, 418046 words/s, in_qsize 7, out_qsize 0\n",
      "2018-07-13 08:44:42,099 : INFO : EPOCH 10 - PROGRESS: at 19.35% examples, 419535 words/s, in_qsize 8, out_qsize 0\n",
      "2018-07-13 08:44:43,114 : INFO : EPOCH 10 - PROGRESS: at 24.21% examples, 420323 words/s, in_qsize 7, out_qsize 1\n",
      "2018-07-13 08:44:44,116 : INFO : EPOCH 10 - PROGRESS: at 28.15% examples, 407605 words/s, in_qsize 7, out_qsize 0\n",
      "2018-07-13 08:44:45,148 : INFO : EPOCH 10 - PROGRESS: at 33.12% examples, 410871 words/s, in_qsize 7, out_qsize 0\n",
      "2018-07-13 08:44:46,155 : INFO : EPOCH 10 - PROGRESS: at 37.00% examples, 402129 words/s, in_qsize 8, out_qsize 0\n",
      "2018-07-13 08:44:47,179 : INFO : EPOCH 10 - PROGRESS: at 41.86% examples, 404906 words/s, in_qsize 8, out_qsize 0\n",
      "2018-07-13 08:44:48,180 : INFO : EPOCH 10 - PROGRESS: at 47.10% examples, 411512 words/s, in_qsize 7, out_qsize 0\n",
      "2018-07-13 08:44:49,181 : INFO : EPOCH 10 - PROGRESS: at 52.96% examples, 420320 words/s, in_qsize 8, out_qsize 0\n",
      "2018-07-13 08:44:50,194 : INFO : EPOCH 10 - PROGRESS: at 58.35% examples, 424936 words/s, in_qsize 7, out_qsize 0\n",
      "2018-07-13 08:44:51,233 : INFO : EPOCH 10 - PROGRESS: at 63.72% examples, 427903 words/s, in_qsize 7, out_qsize 0\n",
      "2018-07-13 08:44:52,270 : INFO : EPOCH 10 - PROGRESS: at 69.19% examples, 430537 words/s, in_qsize 6, out_qsize 1\n",
      "2018-07-13 08:44:53,286 : INFO : EPOCH 10 - PROGRESS: at 73.24% examples, 424891 words/s, in_qsize 8, out_qsize 0\n",
      "2018-07-13 08:44:54,304 : INFO : EPOCH 10 - PROGRESS: at 78.18% examples, 425123 words/s, in_qsize 8, out_qsize 0\n",
      "2018-07-13 08:44:55,324 : INFO : EPOCH 10 - PROGRESS: at 81.75% examples, 417803 words/s, in_qsize 7, out_qsize 0\n",
      "2018-07-13 08:44:56,342 : INFO : EPOCH 10 - PROGRESS: at 86.60% examples, 417705 words/s, in_qsize 7, out_qsize 0\n",
      "2018-07-13 08:44:57,356 : INFO : EPOCH 10 - PROGRESS: at 91.26% examples, 416934 words/s, in_qsize 7, out_qsize 0\n",
      "2018-07-13 08:44:58,359 : INFO : EPOCH 10 - PROGRESS: at 95.88% examples, 416705 words/s, in_qsize 8, out_qsize 0\n",
      "2018-07-13 08:44:59,137 : INFO : worker thread finished; awaiting finish of 3 more threads\n",
      "2018-07-13 08:44:59,145 : INFO : worker thread finished; awaiting finish of 2 more threads\n",
      "2018-07-13 08:44:59,157 : INFO : worker thread finished; awaiting finish of 1 more threads\n",
      "2018-07-13 08:44:59,166 : INFO : worker thread finished; awaiting finish of 0 more threads\n",
      "2018-07-13 08:44:59,168 : INFO : EPOCH - 10 : training on 12084660 raw words (8816279 effective words) took 21.1s, 417801 effective words/s\n",
      "2018-07-13 08:44:59,174 : INFO : training on a 120846600 raw words (88172366 effective words) took 220.3s, 400240 effective words/s\n"
     ]
    }
   ],
   "source": [
    "#Logging\n",
    "logging.basicConfig(format='%(asctime)s : %(levelname)s : %(message)s', level = logging.INFO)\n",
    "\n",
    "#build a Model\n",
    "model = gensim.models.Word2Vec(documents,min_count=10,workers=4,size=50,window=5,iter=10)"
   ]
  },
  {
   "cell_type": "code",
   "execution_count": null,
   "metadata": {},
   "outputs": [],
   "source": [
    "model.save(word2vec-movie-50)"
   ]
  },
  {
   "cell_type": "code",
   "execution_count": 14,
   "metadata": {},
   "outputs": [
    {
     "data": {
      "text/plain": [
       "28322"
      ]
     },
     "execution_count": 14,
     "metadata": {},
     "output_type": "execute_result"
    }
   ],
   "source": [
    "model.wv.vectors.shape\n",
    "len(model.wv.vocab)"
   ]
  },
  {
   "cell_type": "code",
   "execution_count": 15,
   "metadata": {},
   "outputs": [
    {
     "data": {
      "text/plain": [
       "array([-0.57758033,  0.7419004 , -0.8830588 , -1.3724096 ,  0.75750685,\n",
       "        0.498796  , -0.59731036, -1.6247073 ,  0.37138188,  0.6636368 ,\n",
       "        0.5085969 , -0.4008081 ,  1.1054528 , -1.6403744 , -0.16623954,\n",
       "       -0.5052035 , -0.36682963,  0.41667148,  0.19681622, -0.4203468 ,\n",
       "       -0.28493282,  0.14550203, -0.2794967 ,  0.1909292 , -0.99566627,\n",
       "       -0.18496121,  0.53684276, -1.2026618 , -0.31416795, -0.13606903,\n",
       "        0.15698047,  0.58075476, -0.87935835, -1.4419664 , -0.48153263,\n",
       "       -1.8372753 , -0.09213392, -0.20699057,  0.65091676, -1.2886755 ,\n",
       "       -1.0575037 ,  0.2884503 , -0.80147564,  0.10273084, -0.26233566,\n",
       "       -0.10512748,  0.15097883, -0.29997367, -0.42254224, -0.11624835],\n",
       "      dtype=float32)"
      ]
     },
     "execution_count": 15,
     "metadata": {},
     "output_type": "execute_result"
    }
   ],
   "source": [
    "model.wv['flower']"
   ]
  },
  {
   "cell_type": "code",
   "execution_count": 17,
   "metadata": {},
   "outputs": [
    {
     "name": "stderr",
     "output_type": "stream",
     "text": [
      "2018-07-13 08:52:46,317 : INFO : precomputing L2-norms of word weight vectors\n",
      "C:\\Users\\s.mudalapuram\\AppData\\Local\\Continuum\\Anaconda3\\lib\\site-packages\\gensim\\matutils.py:737: FutureWarning: Conversion of the second argument of issubdtype from `int` to `np.signedinteger` is deprecated. In future, it will be treated as `np.int32 == np.dtype(int).type`.\n",
      "  if np.issubdtype(vec.dtype, np.int):\n"
     ]
    },
    {
     "data": {
      "text/plain": [
       "[('fantastic', 0.8840081691741943),\n",
       " ('wonderful', 0.8754611611366272),\n",
       " ('terrific', 0.8729372024536133),\n",
       " ('fine', 0.8502044081687927),\n",
       " ('good', 0.8266528844833374),\n",
       " ('brilliant', 0.8047887682914734),\n",
       " ('superb', 0.797606348991394),\n",
       " ('perfect', 0.759456992149353),\n",
       " ('fabulous', 0.7495386004447937),\n",
       " ('nice', 0.7483311891555786)]"
      ]
     },
     "execution_count": 17,
     "metadata": {},
     "output_type": "execute_result"
    }
   ],
   "source": [
    "model.wv.most_similar('great')"
   ]
  },
  {
   "cell_type": "code",
   "execution_count": null,
   "metadata": {},
   "outputs": [],
   "source": []
  }
 ],
 "metadata": {
  "kernelspec": {
   "display_name": "Python 3",
   "language": "python",
   "name": "python3"
  },
  "language_info": {
   "codemirror_mode": {
    "name": "ipython",
    "version": 3
   },
   "file_extension": ".py",
   "mimetype": "text/x-python",
   "name": "python",
   "nbconvert_exporter": "python",
   "pygments_lexer": "ipython3",
   "version": "3.6.5"
  }
 },
 "nbformat": 4,
 "nbformat_minor": 2
}
